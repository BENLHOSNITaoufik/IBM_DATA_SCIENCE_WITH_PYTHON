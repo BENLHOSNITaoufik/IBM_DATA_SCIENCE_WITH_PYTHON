{
  "metadata": {
    "kernelspec": {
      "name": "python",
      "display_name": "Python (Pyodide)",
      "language": "python"
    },
    "language_info": {
      "codemirror_mode": {
        "name": "python",
        "version": 3
      },
      "file_extension": ".py",
      "mimetype": "text/x-python",
      "name": "python",
      "nbconvert_exporter": "python",
      "pygments_lexer": "ipython3",
      "version": "3.8"
    }
  },
  "nbformat_minor": 4,
  "nbformat": 4,
  "cells": [
    {
      "cell_type": "markdown",
      "source": "<h1>Data Science Tools and Ecosystem</h1>",
      "metadata": {}
    },
    {
      "cell_type": "markdown",
      "source": "In this notebook, Data Science Tools and Ecosystem are summarized.",
      "metadata": {}
    },
    {
      "cell_type": "markdown",
      "source": "<b> Objectives: </b>\n<ul>\n    <li>List popular languages for Data Science</li>\n    <li>Identify commonly used libraries used by Data Scientists</li>\n    <li>List the development environment open source tools used</li>\n    <li>Explore examples of evaluating arithmetic expressions in Python</li>\n</ul>\n",
      "metadata": {}
    },
    {
      "cell_type": "markdown",
      "source": "Some of the popular languages that Data Scientists use are:\n<ol>\n    <li>Python</li>\n    <li>R</li>\n    <li>Julia</li>\n    <li>Scala</li>\n    <li>SQL</li>\n</ol>",
      "metadata": {}
    },
    {
      "cell_type": "markdown",
      "source": "Some of the commonly used libraries used by Data Scientists include:\n<ol>\n    <li>Numpy</li>\n    <li>Pandas</li>\n    <li>Matplotlab</li>\n    <li>scikit-learn</li>\n</ol>",
      "metadata": {}
    },
    {
      "cell_type": "markdown",
      "source": "This table indicates the development environment open source tools used in data science:\n<table>\n    <tr>\n        <th>Data Science Tools</th>\n    </tr>\n    <tr>\n        <td>Visual Studio Code</td>\n    </tr>\n    <tr>\n        <td>Spyder</td>\n    </tr>\n    <tr>\n        <td>Google Colab</td>\n    </tr>\n    <tr>\n        <td>JupyterLab Notebook</td>\n    </tr>\n    <tr>\n        <td>Jupyter Notebook</td>  \n    </tr>\n    \n</table>",
      "metadata": {}
    },
    {
      "cell_type": "markdown",
      "source": "<h3>Below are a few examples of evaluating arithmetic expressions in Python</h3>",
      "metadata": {}
    },
    {
      "cell_type": "code",
      "source": "#This a simple arithmetic expression to mutiply then add integers\n(3*4)+5",
      "metadata": {
        "trusted": true
      },
      "outputs": [
        {
          "execution_count": 2,
          "output_type": "execute_result",
          "data": {
            "text/plain": "17"
          },
          "metadata": {}
        }
      ],
      "execution_count": 2
    },
    {
      "cell_type": "code",
      "source": "#This will convert 200 minutes to hours by diving by 60\nminutes = 200\nhours = minutes / 60 \nhours",
      "metadata": {
        "trusted": true
      },
      "outputs": [
        {
          "execution_count": 6,
          "output_type": "execute_result",
          "data": {
            "text/plain": "3.3333333333333335"
          },
          "metadata": {}
        }
      ],
      "execution_count": 6
    },
    {
      "cell_type": "markdown",
      "source": "<h2>Author</h2>\n<a href=\"https://www.linkedin.com/in/taoufikbenlhosni/\"> Taoufik BEN LHOSNI",
      "metadata": {}
    },
    {
      "cell_type": "code",
      "source": "",
      "metadata": {
        "trusted": true
      },
      "outputs": [],
      "execution_count": null
    }
  ]
}